{
 "cells": [
  {
   "attachments": {},
   "cell_type": "markdown",
   "metadata": {},
   "source": [
    "# Introducción a los notebooks"
   ]
  },
  {
   "attachments": {},
   "cell_type": "markdown",
   "metadata": {},
   "source": [
    "## 1. ¿En qué lugares programar para ciencia de datos?\n",
    "\n",
    "* Google Colab\n",
    "* Deepnote\n",
    "* Localmente"
   ]
  },
  {
   "attachments": {},
   "cell_type": "markdown",
   "metadata": {},
   "source": [
    "## 2. Google Colab\n",
    "\n",
    "### Primeros pasos\n",
    "\n",
    "**Colaboratory**, o mejor conocido como **Colab**, provee de un entorno interactivo a nivel de **archivo**. Dentro de él podrás **escribir** y **ejecutar código** python de una forma **sencilla** y **colaborativa** en tiempo real **sin** ninguna **configuración** extra.\n",
    "\n",
    "El componente de trabajo **clave** en **Colab** son los **notebooks**, también conocidos como libretas interactivas o bloc de notas. Un notebook es una herramienta en la que puedes combinar **código ejecutable** y **texto enriquecido** en un sólo lugar. Además, podrás incluir **imágenes**, **HTML**, **LaTeX** y mucho más.\n",
    "\n",
    "Por defecto, **Colab** te provee de múltiples **fragmentos de código** que te permitirán agilizar tu trabajo. Por ejemplo, montando tu espacio de Google Drive para acceder a los datos. 😉\n",
    "\n",
    "Si eres curioso (y yo sé que sí) y deseas aprender más sobre lo básico de **Colab**, te recomiendo seguir su [documentación oficial](https://colab.research.google.com/notebooks/intro.ipynb). 🎯\n",
    "\n",
    "Colaborar en ciencia de datos nunca había sido tan sencillo. Es tu momento de crear, analizar y visualizar datos. ¡Tu camino como científico de datos está comenzando y el éxito clama por ti! 🙌\n",
    "\n",
    "#### Instrucciones\n",
    "\n",
    "1. En tu navegador, da clic en el botón `Conectar` situado en la parte superior derecha de este notebook.\n",
    "2. Ingresa con tu cuenta de **Google**.\n",
    "3. Lee con atención el contenido del notebook.\n",
    "4. Explora la interfaz. Nada mejor como conocer tu espacio de trabajo.\n",
    "5. Ejecuta las celdas de código y juega a cambiar las cosas para ver qué pasa. Es la mejor manera de aprender.\n",
    "6. ¡**Disfruta**, estás un paso más cerca de convertirte en un científico de datos! 🎉\n",
    "\n",
    "#### Celdas de código\n",
    "\n",
    "A continuación, se encuentra una **celda de código** con una pequeña instrucción de **Python** que imprime un texto:"
   ]
  },
  {
   "cell_type": "code",
   "execution_count": 2,
   "metadata": {},
   "outputs": [
    {
     "name": "stdout",
     "output_type": "stream",
     "text": [
      "¡Hola, Mundo!\n"
     ]
    }
   ],
   "source": [
    "print(\"¡Hola, Mundo!\")"
   ]
  },
  {
   "attachments": {},
   "cell_type": "markdown",
   "metadata": {},
   "source": [
    "Interactuar con las **celdas de código** es tan sencillo como dar clic en ella y presionar `Command/Ctrl + Enter`para **ejecutarla** y simplemente `escribir` para **editarla**.\n",
    "\n",
    "**Nota:** Los comandos de teclado suelen abreviarse como `Command/Ctrl + ...`, indicando si debes presionas `Command` en macOS o `Ctrl` en Windows o Ubuntu. 👀\n",
    "\n",
    "> Edita, ejecuta, observa y repite. Ese es el ciclo de trabajo en los **notebooks**. 😋"
   ]
  },
  {
   "attachments": {},
   "cell_type": "markdown",
   "metadata": {},
   "source": [
    "#### Celdas de texto\n",
    "\n",
    "Las celdas de texto dentro de los notebooks funcionan con **markdown**, el cual es un lenguaje de marcado ligero cuyo objetivo es **maximizar** la **legibilidad** y **sencillez** de escritura. Es decir, si tú observaras texto plano de markdown y lo compararas con su versión renderizada, el resultado debería lucir muy similar. ✨\n",
    "\n",
    "> De hecho, todo lo que estás leyendo en este momento ha sido escrito con **markdown**. Para observar el contenido crudo y editarlo, puedes dar doble clic sobre la celda o presionar `Enter`. Se ve muy similar, ¿cierto? 👀\n",
    "\n",
    "Para conocer más sobre cómo escribir utilizando **markdown**, te recomiendo revisar la [documentación oficial](https://www.markdownguide.org/). ¡Te aseguro que no te arrepentirás de aprender más sobre este lenguaje de marcado! 🎉\n",
    "\n",
    "Incluso puedes incluir matemáticas utilizando [LaTeX](https://www.latex-project.org/) que será renderizado por [MathJax](https://www.mathjax.org/). Por ejemplo:  \n",
    "`$x = \\frac{-b \\pm \\sqrt{b^2 - 4ac}}{2a}$` se convierte en $x = \\frac{-b \\pm \\sqrt{b^2 - 4ac}}{2a}$"
   ]
  },
  {
   "attachments": {},
   "cell_type": "markdown",
   "metadata": {},
   "source": [
    "#### Añadir, mover y remover celdas\n",
    "\n",
    "Puedes **añadir** celdas utilizando los botones `+ Código` y `+ Texto` que se muestran cuando te desplazas entre celdas. Estos botones también los puedes encontrar en la barra de herramientas situada en la parte superior izquierda de este notebook. También, si lo prefieres, puedes **agregar** celdas de código arriba o abajo de la celda actual utilizando `Command/Ctrl + M + A` o `Command/Ctrl + M + B`, respectivamente. 🙌\n",
    "\n",
    "Si deseas **mover** una celda posición, puedes dar clic sobre la celda deseada, aparecera una barra de herramientas en la esquina superior deracha de la celda y deberás dar clic en los botones de `Arriba`-`Abajo`, o a través de atajos de teclado, con las combinaciones `Command/Ctrl + M + K` y `Command/Ctrl + M + J`, respectivamente.\n",
    "\n",
    "Para **eliminar** una celda puedes dar clic sobre ella y sobre el la barra de herramientas que aparecera en la esquina superior deracha de la celda da clic en el **ícono** de `basura`. También, puedes utilizar el atajo de teclado `Command/Ctrl + M + D`."
   ]
  },
  {
   "attachments": {},
   "cell_type": "markdown",
   "metadata": {},
   "source": [
    "#### Variables\n",
    "\n",
    "Entre las características más destacables de las sesiones interactivas dentro de los notebooks es que las **variables** que definas en una celda pueden ser utilizadas después en otras:"
   ]
  },
  {
   "cell_type": "code",
   "execution_count": 3,
   "metadata": {},
   "outputs": [],
   "source": [
    "mi_primera_variable = \"tiene un contenido muy extenso\"\n",
    "mi_segunda_variable = \"es muy interesante\""
   ]
  },
  {
   "cell_type": "code",
   "execution_count": 4,
   "metadata": {},
   "outputs": [
    {
     "name": "stdout",
     "output_type": "stream",
     "text": [
      "¡Este curso tiene un contenido muy extenso y es muy interesante!\n"
     ]
    }
   ],
   "source": [
    "print(f\"¡Este curso {mi_primera_variable} y {mi_segunda_variable}!\")"
   ]
  },
  {
   "attachments": {},
   "cell_type": "markdown",
   "metadata": {},
   "source": [
    "#### Uso de la línea de comandos (shell)\n",
    "\n",
    "En **Colab** y, en general, en cualquier sistema con base en **Jupyter Notebooks** o **Ipython** puedes ejecutar **comandos** de la **línea de comandos** (_shell_) en las celdas de los **notebooks** al poner un signo de exclamación o bang (`!`) al inicio del comando. 🙌\n",
    "\n",
    "Esto puede ser múy útil para muchas cosas, como **crear**, **mover** o **eliminar** archivos. También, podrás utilizarlo para **instalar** dependencias del sistema o librerías para Python. Prácticamente, podrás hacer **todo**. 👀\n",
    "\n",
    "Aquí te dejo el [Curso de Introducción a la Terminal y Línea de Comandos](https://platzi.com/clases/terminal/) de [Enrique Devars](https://twitter.com/codevars/) por si deseas profundizar más en el tema. 😉"
   ]
  },
  {
   "cell_type": "code",
   "execution_count": 5,
   "metadata": {},
   "outputs": [
    {
     "name": "stdout",
     "output_type": "stream",
     "text": [
      "\"Cada l�nea es un comando y tiene su funci�n:\"\n"
     ]
    },
    {
     "name": "stderr",
     "output_type": "stream",
     "text": [
      "\"ls\" no se reconoce como un comando interno o externo,\n",
      "programa o archivo por lotes ejecutable.\n",
      "\"pwd\" no se reconoce como un comando interno o externo,\n",
      "programa o archivo por lotes ejecutable.\n",
      "\"pwd\" no se reconoce como un comando interno o externo,\n",
      "programa o archivo por lotes ejecutable.\n"
     ]
    },
    {
     "name": "stdout",
     "output_type": "stream",
     "text": [
      "\"�Lo est�s haciendo incre�ble!\"\n"
     ]
    }
   ],
   "source": [
    "!echo \"Cada línea es un comando y tiene su función:\"\n",
    "!ls # Listar archivos\n",
    "!pwd # Directorio actual\n",
    "!cd .. && pwd # Moverte un directorio atrás.\n",
    "!echo \"¡Lo estás haciendo increíble!\""
   ]
  },
  {
   "attachments": {},
   "cell_type": "markdown",
   "metadata": {},
   "source": [
    "#### Instalación de librerías\n",
    "\n",
    "Las **librerías** son un conjunto de implementaciones funcionales en un lenguaje de programación. Instalar **librerías**, es decir, código de terceros, dentro de **Colab** es sencillo. 👇\n",
    "\n",
    "Por ejemplo, para este notebook es necesaria la libería **session_info**. Para instalarla necesitas utilizar el manejador de paquetes de python [pip](https://pypi.org/project/pip/). Ahora, para **instalar** las **dependencias** sólo necesitas **utilizar** el comando `pip install session-info` en la **línea de comandos**.\n",
    "\n",
    "Entonces, para instalar la librería dentro de un notebook necesitas escribir lo siguiente:"
   ]
  },
  {
   "cell_type": "code",
   "execution_count": 6,
   "metadata": {},
   "outputs": [
    {
     "name": "stdout",
     "output_type": "stream",
     "text": [
      "Collecting session-info\n",
      "  Downloading session_info-1.0.0.tar.gz (24 kB)\n",
      "  Preparing metadata (setup.py): started\n",
      "  Preparing metadata (setup.py): finished with status 'done'\n",
      "Collecting stdlib_list\n",
      "  Downloading stdlib_list-0.8.0-py3-none-any.whl (63 kB)\n",
      "     ---------------------------------------- 63.5/63.5 kB 1.7 MB/s eta 0:00:00\n",
      "Installing collected packages: stdlib_list, session-info\n",
      "  Running setup.py install for session-info: started\n",
      "  Running setup.py install for session-info: finished with status 'done'\n",
      "Successfully installed session-info-1.0.0 stdlib_list-0.8.0\n"
     ]
    },
    {
     "name": "stderr",
     "output_type": "stream",
     "text": [
      "  DEPRECATION: session-info is being installed using the legacy 'setup.py install' method, because it does not have a 'pyproject.toml' and the 'wheel' package is not installed. pip 23.1 will enforce this behaviour change. A possible replacement is to enable the '--use-pep517' option. Discussion can be found at https://github.com/pypa/pip/issues/8559\n",
      "\n",
      "[notice] A new release of pip available: 22.3 -> 23.0\n",
      "[notice] To update, run: python.exe -m pip install --upgrade pip\n"
     ]
    }
   ],
   "source": [
    "!pip install session-info"
   ]
  },
  {
   "attachments": {},
   "cell_type": "markdown",
   "metadata": {},
   "source": [
    "#### Subir archivos\n",
    "\n",
    "Puedes cargar **archivos** a **colab** dirigiéndote a `Archivos` en la barra lateral y usando el botón `Subir archivo`. Alternativamente, también puedes simplemente arrastrar y soltar estos archivos en la sección `Archivos` de la barra lateral.\n",
    "\n",
    "Para más información sobre formas de subir archivos a **Colab** te recomiendo su [documentación oficial](https://colab.research.google.com/notebooks/io.ipynb).\n",
    "\n",
    "![](https://media.giphy.com/media/jAIeYwPFSCTeRbkcXA/giphy.gif)"
   ]
  },
  {
   "attachments": {},
   "cell_type": "markdown",
   "metadata": {},
   "source": [
    "### Ciencia de datos\n",
    "\n",
    "Con **Colab** tendrás acceso a notebooks con todo el poder de Python para analizar y visualizar datos.\n",
    "\n",
    "Muchas de las **librerías** más comúnes para la ciencia de datos vienen **preinstaladas** por defecto. No obstante, podrás instalar más librerías o programas requeridos utilizando la sintaxis de ejecución de comandos en la terminal `!` descrita en en el bloque anterior.\n",
    "\n",
    "> Si bien, podrías trabajar con conseguir trabajar con distintas versiones de Python o inclusive otros lenguajes de programación en **Colab**, su fuerte es Python y el acceso a mayor poder de computo a través de GPUs o TPUs. Ténlo en cuenta al momento de decidir qué herramienta utilizar. 👀 \n",
    "\n",
    "A continuación, puedes ver una gráfico generado con código de python utilizando **vega_datasets** para obtener los datos y **altair** para la visualización. 😋"
   ]
  },
  {
   "cell_type": "code",
   "execution_count": 9,
   "metadata": {},
   "outputs": [
    {
     "data": {
      "text/plain": [
       "'\\nfrom vega_datasets import data\\nimport altair as alt\\n\\ncars = data.cars()\\n\\n(\\n    alt.Chart(cars)\\n    .mark_line()\\n    .encode(\\n        x=\"Year:T\",\\n        y=\"count(Year):Q\",\\n        color=\"Origin:N\"\\n    )\\n)\\n'"
      ]
     },
     "execution_count": 9,
     "metadata": {},
     "output_type": "execute_result"
    }
   ],
   "source": [
    "'''\n",
    "from vega_datasets import data\n",
    "import altair as alt\n",
    "\n",
    "cars = data.cars()\n",
    "\n",
    "(\n",
    "    alt.Chart(cars)\n",
    "    .mark_line()\n",
    "    .encode(\n",
    "        x=\"Year:T\",\n",
    "        y=\"count(Year):Q\",\n",
    "        color=\"Origin:N\"\n",
    "    )\n",
    ")\n",
    "'''"
   ]
  },
  {
   "attachments": {},
   "cell_type": "markdown",
   "metadata": {},
   "source": [
    "Además, **Colab** incluye una extensión que convierte los datos tabulares de **pandas** en pantallas interactivas que se pueden **filtrar**, **clasificar** y **explorar** de forma dinámica. 🤯\n",
    "\n",
    "En seguida hay un ejemplo de cómo se visualizaría la tabla utilizando **Data Tables**:"
   ]
  },
  {
   "cell_type": "code",
   "execution_count": 10,
   "metadata": {},
   "outputs": [
    {
     "data": {
      "text/plain": [
       "'\\n%load_ext google.colab.data_table\\ncars\\n'"
      ]
     },
     "execution_count": 10,
     "metadata": {},
     "output_type": "execute_result"
    }
   ],
   "source": [
    "'''\n",
    "%load_ext google.colab.data_table\n",
    "cars\n",
    "'''"
   ]
  },
  {
   "attachments": {},
   "cell_type": "markdown",
   "metadata": {},
   "source": [
    "### Atajos de teclado\n",
    "\n",
    "**Colab** tiene múltiples atajos de teclado para agilizar tu desarrollo de código dentro de él. Aprendértelos todos no es obligatorio, ni mucho menos necesario. Siéntete tranquilo. Siempre podrás consultarlos presionando `Command/Ctrl + P` y escribiendo _Mostrar combinaciones de teclas_ o simplemente _teclas_ (`Command/Ctrl + M + H`). 😋\n",
    "\n",
    "Personalmente, los únicos que te recomendaría memorizar son los comandos para **agregar**, **editar** y **ejecutar** bloques. ✨\n",
    "\n",
    "#### Comandos\n",
    "\n",
    "| Comando | Función |\n",
    "|---|---|\n",
    "| ⌘/Ctrl+O | Abrir notebook |\n",
    "| ⌘/Ctrl+Alt+N | Abrir celda de código temporal |\n",
    "| Tab | Activar o desactivar la ayuda de docstring de código |\n",
    "| ⌘/Ctrl+M L | Activar o desactivar números de línea |\n",
    "| ⌘/Ctrl+M D | Borrar celda o selección |\n",
    "| ⌘/Ctrl+M P | Celda anterior |\n",
    "| ⌘/Ctrl+M N | Celda siguiente |\n",
    "| ⌘/Ctrl+/ | Comentar la línea actual |\n",
    "| ⌘/Ctrl+M Y | Convertir a celda de código |\n",
    "| ⌘/Ctrl+M M | Convertir a celda de texto |\n",
    "| Esc | Desenfocar celda actual |\n",
    "| ⌘/Ctrl+M Z o ⌘/Ctrl+Shift+Z | Deshacer la última acción de las celdas |\n",
    "| Alt+Enter | Ejecutar la celda e insertar una nueva |\n",
    "| ⌘/Ctrl+Enter | Ejecutar la celda enfocada |\n",
    "| Shift+Enter | Ejecutar la celda y seleccionar la siguiente |\n",
    "| ⌘/Ctrl+S | Guardar notebook |\n",
    "| ⌘/Ctrl+M B | Insertar celda de código abajo |\n",
    "| ⌘/Ctrl+M A | Insertar celda de código arriba |\n",
    "| ⌘/Ctrl+M I | Interrumpir la ejecución |\n",
    "| ⌘/Ctrl+M H | Mostrar combinaciones de teclas |\n",
    "| ⌘/Ctrl+Shift+P | Mostrar paleta de comandos |\n",
    "| ⌘/Ctrl+M J | Mover las celdas seleccionadas hacia abajo |\n",
    "| ⌘/Ctrl+M K | Mover las celdas seleccionadas hacia arriba |"
   ]
  },
  {
   "attachments": {},
   "cell_type": "markdown",
   "metadata": {},
   "source": [
    "### Información de sesión\n",
    "\n",
    "👌 Es una buena práctica poner la información de sesión al final de cada notebook que realices. De esta forma, otras personas podrán ver qué versiones de librerías utilizaste para tu análisis. Además, si llegas a tener un problema, puedes compartir esta información con la comunidad para que sea más fácil replicar el error y te puedan ayudar.\n",
    " \n",
    "En el caso de **Colab**, podrías **invitarles** a colaborar para que te ayuden o podrías compartirles una invitación vía **email** o un **link** para que ellos ejecuten el proyecto en su máquina de Google. Tal como te he compartido este notebook. Para **compartir** tu notebook sólo tienes que **presionar** el botón `Compartir` situado en la parte superior derecha de la barra de navegación, ir a la sección `Obtener vínculo` y, finalmente, **escoger** el **modo** en el que deseas compartir tu notebook: **Lector**, **Comenterarista** o **Editor**. 😋"
   ]
  },
  {
   "cell_type": "code",
   "execution_count": 11,
   "metadata": {},
   "outputs": [
    {
     "data": {
      "text/html": [
       "<details>\n",
       "<summary>Click to view session information</summary>\n",
       "<pre>\n",
       "-----\n",
       "session_info        1.0.0\n",
       "-----\n",
       "</pre>\n",
       "<details>\n",
       "<summary>Click to view modules imported as dependencies</summary>\n",
       "<pre>\n",
       "asttokens           NA\n",
       "backcall            0.2.0\n",
       "colorama            0.4.6\n",
       "comm                0.1.2\n",
       "cython_runtime      NA\n",
       "dateutil            2.8.2\n",
       "debugpy             1.6.5\n",
       "decorator           5.1.1\n",
       "entrypoints         0.4\n",
       "executing           1.2.0\n",
       "ipykernel           6.20.2\n",
       "jedi                0.18.2\n",
       "nt                  NA\n",
       "ntsecuritycon       NA\n",
       "packaging           23.0\n",
       "parso               0.8.3\n",
       "pickleshare         0.7.5\n",
       "pkg_resources       NA\n",
       "platformdirs        2.6.2\n",
       "prompt_toolkit      3.0.36\n",
       "psutil              5.9.4\n",
       "pure_eval           0.2.2\n",
       "pydev_ipython       NA\n",
       "pydevconsole        NA\n",
       "pydevd              2.9.5\n",
       "pydevd_file_utils   NA\n",
       "pydevd_plugins      NA\n",
       "pydevd_tracing      NA\n",
       "pygments            2.14.0\n",
       "pythoncom           NA\n",
       "pywin32_bootstrap   NA\n",
       "pywin32_system32    NA\n",
       "pywintypes          NA\n",
       "six                 1.16.0\n",
       "stack_data          0.6.2\n",
       "tornado             6.2\n",
       "traitlets           5.8.1\n",
       "wcwidth             0.2.6\n",
       "win32api            NA\n",
       "win32com            NA\n",
       "win32security       NA\n",
       "zmq                 25.0.0\n",
       "</pre>\n",
       "</details> <!-- seems like this ends pre, so might as well be explicit -->\n",
       "<pre>\n",
       "-----\n",
       "IPython             8.8.0\n",
       "jupyter_client      7.4.9\n",
       "jupyter_core        5.1.3\n",
       "-----\n",
       "Python 3.11.0 (main, Oct 24 2022, 18:26:48) [MSC v.1933 64 bit (AMD64)]\n",
       "Windows-10-10.0.19044-SP0\n",
       "-----\n",
       "Session information updated at 2023-02-15 09:21\n",
       "</pre>\n",
       "</details>"
      ],
      "text/plain": [
       "<IPython.core.display.HTML object>"
      ]
     },
     "execution_count": 11,
     "metadata": {},
     "output_type": "execute_result"
    }
   ],
   "source": [
    "import session_info\n",
    "\n",
    "session_info.show()"
   ]
  },
  {
   "attachments": {},
   "cell_type": "markdown",
   "metadata": {},
   "source": [
    "## 3. Utilizar Deepnote\n",
    "\n",
    "### Primeros pasos\n",
    "\n",
    "**Deepnote** es una aplicación web compatible con [Jupyter Notebooks](https://jupyter.org/) que provee de un entorno de trabajo interactivo para **ciencia de datos** a nivel de **proyectos**. En él podrás **escribir** y **ejecutar** **código** de una forma **sencilla** y **colaborativa** en tiempo real **sin** ninguna **configuración** extra. Por lo que, es **óptimo** para comenzar a **estudiar** o **desarrollar** proyectos profesionales en **ciencia de datos**.\n",
    "\n",
    "El componente de trabajo **clave** en **Deepnote** son los **notebooks**, también conocidos como libretas interactivas o bloc de notas. Un **notebook** es una herramienta en la que puedes combinar **código ejecutable** y **texto enriquecido** (_e.g._, letras negritas) en un sólo documento. Además, podrás incluir **imágenes**, **HTML**, **LaTeX** y mucho más.\n",
    "\n",
    "Por defecto, **Deepnote** te provee de [múltiples integraciones](https://docs.deepnote.com/features/integrations) que te permitirán acceder a datos de una forma **rápida** y **efectiva**. ¿Datos en Google Drive, MongoDB u otro? No hay problema, **Deepnote** los tiene y, de no ser así, pronto los tendrá. 😉\n",
    "\n",
    "Si eres curioso (y yo sé que sí) y deseas aprender más sobre lo básico de **Deepnote**, te recomiendo su [Crash course](https://docs.deepnote.com/deepnote-crash-course-videos). Está en inglés, pero puedes complementarlo y guiarte con lo que aprenderás en esta guía. 🎯\n",
    "\n",
    "Colaborar en ciencia de datos nunca había sido tan sencillo. Es tu momento de crear, analizar y visualizar datos. ¡Tu camino como científico de datos está comenzando y el éxito clama por ti! 🙌\n",
    "\n",
    "#### Instrucciones\n",
    "\n",
    "1. En tu navegador, da clic en el botón azul `Launch in Deepnote` situado en la parte superior derecha de esta pantalla.\n",
    "2. Ingresa con tu cuenta de **Google**, **Github** o crea una nueva.\n",
    "3. Lee con atención el contenido del notebook.\n",
    "3. Explora la interfaz. Nada mejor como conocer tu espacio de trabajo.\n",
    "4. Ejecuta las celdas y juega a cambiar las cosas para ver qué pasa. Es la mejor manera de aprender.\n",
    "6. ¡**Disfruta**, estás un paso más cerca de convertirte en un científico de datos! 🎉\n",
    "\n",
    "### Subir archivos\n",
    "\n",
    "Puedes cargar **notebooks** existentes (o carpetas de trabajo) a un proyecto dirigiéndote a `Notebooks & Files` en la barra lateral y usando el botón `Upload file`. También puedes simplemente arrastrar y soltar estos archivos en el sistema de archivos. 🎉\n",
    "\n",
    "Para más información sobre formas de subir archivos a **Deepnote** te recomiendo su [documentación oficial](https://docs.deepnote.com/importing-and-exporing/importing-data-to-deepnote).\n",
    "\n",
    "![Subir archivos](https://gblobscdn.gitbook.com/assets%2F-M-KMVTgD55GYxoqfa9T%2F-MbpP6Mzw3Ny3jmTPvnp%2F-MbpWt0N8CrE_U_MOCe_%2FCleanShot%202021-06-10%20at%2013.42.23.gif?alt=media&token=643b8448-dc53-43f2-8031-6060efcf9f77)"
   ]
  },
  {
   "attachments": {},
   "cell_type": "markdown",
   "metadata": {},
   "source": [
    "### Ciencia de datos"
   ]
  },
  {
   "attachments": {},
   "cell_type": "markdown",
   "metadata": {},
   "source": [
    "Con **Deepnote** tendrás acceso a **notebooks** con todo el poder de **Python** para analizar y visualizar datos.\n",
    "\n",
    "Muchas de las **librerías** más comunes para la ciencia de datos vienen **preinstaladas** por defecto. No obstante, podrás crear entornos de trabajo completos gracias a la posibilidad de **configurar** el **ambiente** con un archivo de [Docker](https://www.docker.com/). ✨\n",
    "\n",
    "> Podrías trabajar con distintas versiones de Python y R. El fuerte de momento en **Deepnote** es Python, pero eventualmente R también reclamará su lugar. Para comenzar puedes centrarte únicamente en Python y, conforme vayas aprendiendo, te darás cuenta de lo **importante** que es poder **configurar** tu **ambiente** en demanda de tus necesidades. 😋\n",
    "\n",
    "A continuación, puedes ver un gráfico generado **sin código**. Es decir, puedes explorar tus datos interactivamente con un bloque de tipo **Chart** o **Gráfica** sin esfuerzo. Para crear el bloque da clic en botón `+ Block` que aparece al posicionarte sobre una celda o bloque. Después, selecciona la opción `Chart` y escoge el conjunto de datos que desees visualizar (_i.e._, un `DataFrame`). No te preocupes por los detalles, conforme sigas aprendiendo en la ruta para convertirte en un científico de datos, podrás crear las tuyas propias y personalizarlas a tus gustos. 📊\n",
    "\n",
    "> Para ver cómo se generó este gráfico asegúrate de dar clic en el botón `Launch in Deepnote`. 😋"
   ]
  },
  {
   "attachments": {},
   "cell_type": "markdown",
   "metadata": {},
   "source": [
    "Además, **Deepnote** provee de una visualización previa para los [DataFrames](https://pandas.pydata.org/) (_i.e._, datos en formato tabular) que te ayudará a entender mejor la distribución de tus datos en una primera vista:\n",
    "\n",
    "> Para ver una visualización mucho más completa de esta tabla, asegúrate de dar clic en el botón `Launch in Deepnote`. 😋"
   ]
  },
  {
   "attachments": {},
   "cell_type": "markdown",
   "metadata": {},
   "source": [
    "### Atajos de teclado\n",
    "\n",
    "**Deepnote** tiene múltiples atajos de teclado para agilizar tu desarrollo de código dentro de él. Aprendértelos todos no es obligatorio, ni mucho menos necesario. Siéntete tranquilo. Siempre podrás consultarlos presionando `Command/Ctrl + P` o `Esc` y escribiendo _shortcuts_. 😋\n",
    "\n",
    "Personalmente, los únicos que te recomendaría memorizar son los comandos para **agregar**, **editar** y **ejecutar** bloques. ✨\n",
    "\n",
    "#### Acciones de bloque\n",
    "\n",
    "| Comando                         | Función                                                  |\n",
    "|---------------------------------|----------------------------------------------------------|\n",
    "| `Shift + Enter`                 | Ejecutar bloque y pasar al siguiente                     |\n",
    "| `Option/Alt + Enter`            | Ejecutar bloque y crear un bloque de código nuevo debajo |\n",
    "| `Command/Ctrl + Enter`          | Ejecutar bloque                                          |\n",
    "| `Command/Ctrl + Shift + .`      | Detener ejecución                                        |\n",
    "| `Command/Ctrl + Shift + H`      | Ocultar / mostrar la salida del bloque                   |\n",
    "| `Command/Ctrl + Shift + X`      | Limpiar salida del bloque enfocado                       |\n",
    "| `Command/Ctrl + Option/Alt + H` | Ocultar / mostrar la salida del bloque                   |\n",
    "| `Command/Ctrl + Shift + Del`    | Eliminar bloque                                          |\n",
    "| `Command/Ctrl + Shift + M`      | Convertir bloque a markdown                              |\n",
    "| `Command/Ctrl + Shift + Y`      | Convertir bloque a código                                |\n",
    "| `Option/Alt + Shift + ↑`.       | Mover bloque arriba                                      |\n",
    "| `Option/Alt + Shift + ↓`        | Mover bloque abajo                                       |\n",
    "| `Command/Ctrl + Shift + D`      | Duplicar bloque                                          |\n",
    "| `Command/Ctrl + K`              | Agregar bloque arriba                                    |\n",
    "| `Command/Ctrl + J`              | Agregar bloque abajo                                     |\n",
    "| `Enter`                         | Abrir modo de edición de markdown                        |\n",
    "| `Shift + Enter`                 | Renderizar markdown                                      |\n",
    "| `Command/Ctrl + Option/Alt + C` | Añadir comentario                                        |\n",
    "| `Command/Ctrl + .`              | Abrir acciones de bloque                                 |\n",
    "\n",
    "#### Generales\n",
    "\n",
    "| Comando                    | Función                               |\n",
    "|----------------------------|---------------------------------------|\n",
    "| `Command/Ctrl + Z`         | Deshacer la última operación          |\n",
    "| `Command/Ctrl + Shift + Z` | Volver a realizar la última operación |\n",
    "| `↑`                        | Mover arriba en los bloques           |\n",
    "| `↓`                        | Mover abajo en los bloques            |\n",
    "| `Command/Ctrl + P`         | Abrir paleta de comandos              |\n",
    "| `esc`                      | Abrir paleta de comandos              |\n",
    "| `Command/Ctrl + [`         | Regresar en archivos                  |\n",
    "| `Command/Ctrl + ]`         | Avanzar en archivos                   |"
   ]
  }
 ],
 "metadata": {
  "kernelspec": {
   "display_name": "Python 3",
   "language": "python",
   "name": "python3"
  },
  "language_info": {
   "codemirror_mode": {
    "name": "ipython",
    "version": 3
   },
   "file_extension": ".py",
   "mimetype": "text/x-python",
   "name": "python",
   "nbconvert_exporter": "python",
   "pygments_lexer": "ipython3",
   "version": "3.11.0"
  },
  "orig_nbformat": 4,
  "vscode": {
   "interpreter": {
    "hash": "c261aea317cc0286b3b3261fbba9abdec21eaa57589985bb7a274bf54d6cc0a7"
   }
  }
 },
 "nbformat": 4,
 "nbformat_minor": 2
}
