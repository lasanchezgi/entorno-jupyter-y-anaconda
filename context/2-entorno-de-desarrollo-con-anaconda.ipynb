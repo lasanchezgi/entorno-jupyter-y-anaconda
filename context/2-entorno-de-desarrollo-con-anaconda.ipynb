{
 "cells": [
  {
   "attachments": {},
   "cell_type": "markdown",
   "metadata": {},
   "source": [
    "# Entorno de desarrollo con Anaconda"
   ]
  },
  {
   "attachments": {},
   "cell_type": "markdown",
   "metadata": {},
   "source": [
    "## 1. ¿Qué son los ambientes virtuales?\n",
    "\n",
    "Proyecto que puede tener sus propias dependencias, independientemente de las dependencias que tengan los demás proyectos\n",
    "\n",
    "* Todos los proyectos tienen requerimientos diferentes"
   ]
  },
  {
   "attachments": {},
   "cell_type": "markdown",
   "metadata": {},
   "source": [
    "## 2. Instalar Conda a través de la terminal\n",
    "\n",
    "**Conda** --> Programa diseñado para la manipulación o gestión de paquetes, dependencias y entornos para cualquier lenguaje: Python, R, Ruby, Lua, Scala, Java, JavaScript, C / C++, FORTAN y más."
   ]
  },
  {
   "attachments": {},
   "cell_type": "markdown",
   "metadata": {},
   "source": [
    "## 3. Conda"
   ]
  },
  {
   "attachments": {},
   "cell_type": "markdown",
   "metadata": {},
   "source": [
    "### Crear y actualizar ambientes\n",
    "\n",
    "Ambiente que de una vez tengo por defecto es `base`\n",
    "\n",
    "`conda env list`\n",
    "\n",
    "Crear ambiente:\n",
    "\n",
    "`conda create --name python35 (nombre ambiente) python=3.5(paquete de python versión 3.5) pandas(si no le coloco nada me baja la ultima versión)`\n",
    "\n",
    "`Proceed? y`\n",
    "\n",
    "Preparando el nuevo ambiente...\n",
    "\n",
    "Para activar: `conda activate python35`\n",
    "\n",
    "Para desactivar: `conda deactivate`\n",
    "\n",
    "Para verificar las versiones de los paquetes: `conda list`\n",
    "\n",
    "Para verificar un paquete en especifico: `conda list pandas`\n",
    "\n",
    "Para actualizar un paquete: `conda update pandas`\n",
    "\n",
    "Para instalar un paquete especifico con una versión especifica: `conda install pandas=1.2`\n",
    "\n",
    "Para renombrar un ambiente: `conda create --name python39 --copy --clone python35`\n",
    "\n",
    "\n",
    "\n"
   ]
  },
  {
   "attachments": {},
   "cell_type": "markdown",
   "metadata": {},
   "source": [
    "### Abrir VSC Notebooks con tu ambiente creado\n",
    "\n",
    "1.  En su esquina superior derecha aparecerá un botón que dice Select Kernel, Not Started o incluso puede aparecer en el botón que ya tienes un Kernel seleccionado. Da clic en él.\n",
    "\n",
    "2. Al presionarlo aparecerán todas las opciones de Kernels/ambientes que están instalados en tu computadora. Elige el que prefieras. Para este ejemplo escogeré el ambiente py39 que creamos en la clase anterior. Al elegirlo notarás que aparece el nombre del ambiente en el botón que presionaste anteriormente en la parte superior derecha.\n",
    "\n",
    "Listo, has seleccionado un ambiente. De esta forma puedes cambiar de ambiente cuando lo necesites y abrir tus notebooks para trabajar con ellas en VSCode.\n",
    "\n",
    "#### ¿Qué hacer si no me aparecen los ambientes creados con Conda?\n",
    "\n",
    "1. Asegura tener instalada la extensión de Python. ¿Lo recuerdas? Porque con ello se instala todo lo necesario para que puedas escoger estos ambientes y usar Jupyter Notebooks.\n",
    "\n",
    "2. Si el problema todavía persiste recarga tu ventana de VSCode usando el comando Ctrl + R o Command + R."
   ]
  },
  {
   "attachments": {},
   "cell_type": "markdown",
   "metadata": {},
   "source": [
    "### Eliminar ambientes y librerias\n",
    "\n",
    "`conda remove pandas(librerias y dependencias)`\n",
    "\n",
    "`Proceed? y`\n",
    "\n",
    "Eliminar un ambiente\n",
    "\n",
    "`conda env remove --name python35`\n",
    "\n",
    "Se debe tener encuenta que para eliminar un ambiente, primero se tiene que desactivar\n",
    "\n",
    "`conda deactivate`\n",
    "\n",
    "`conda env remove --name python39`\n",
    "\n",
    "Para verificar los ambientes\n",
    "\n",
    "`conda env list`"
   ]
  },
  {
   "attachments": {},
   "cell_type": "markdown",
   "metadata": {},
   "source": [
    "### Comandos avanzados\n",
    "\n",
    "Es una buena practica NO modificar el ambiente base\n",
    "\n",
    "Creando un nuevo ambiente\n",
    "\n",
    "`conda create --name py39 python=3.9 pandas=1.2`\n",
    "\n",
    "`Proceed? y`\n",
    "\n",
    "`conda activate py39`\n",
    "\n",
    "`conda install boltons`\n",
    "\n",
    "Para instalar un paquete especificando un canal (pagina web de donde quiero que descargue el paquete)\n",
    "\n",
    "`conda install --channel conda-forge boltons`\n",
    "\n",
    "`Proceed? y`\n",
    "\n",
    "`conda list boltons`\n",
    "\n",
    "Para ver listar las revisiones del estado mi ambiente\n",
    "\n",
    "`conda list --revision--`\n",
    "\n",
    "Especificar la revisión:\n",
    "\n",
    "`conda install --revision-- 0`\n",
    "\n",
    "`Proceed? y`\n",
    "\n",
    "`conda list boltons`\n",
    "\n",
    "Para exportar un ambiente: \n",
    "\n",
    "`conda env export`\n",
    "\n",
    "`conda env export --no-buils` (para que solo aparezaca el paquete y su version)\n",
    "\n",
    "`conda env export --from-history`  (solo las que especificamos manualmente)\n",
    "\n",
    "`conda env export --from-history --file environment.yml` (Para crear un archivo con las especificaciones del enviroment)\n",
    "\n",
    "Para importar un ambiente:\n",
    "\n",
    "`conda env create --file enviroment.yml`\n",
    "\n",
    "`conda activate py39`\n",
    "\n",
    "`conda env list`"
   ]
  },
  {
   "attachments": {},
   "cell_type": "markdown",
   "metadata": {},
   "source": [
    "### Acelerar la creación de ambientes virtuales con Mamba\n",
    "\n",
    "`Mamba` --> Reemplementación de Conda en C++ para acelerar la creación de ambientes virtuales.\n",
    "\n",
    "Permite descargar datos, y resolver estas librerias, dependencias, para crear el ambiente virtual en parelelo. Es decir, busca multiples alternatias al mismo tiempo y tambien incluye muchas optimizaciones, para que la experiencia sea más rapida y fluida.\n",
    "\n",
    "`Mamba` tambien incluye una interfaz de linea de comandos que funciona como `Conda`\n",
    "\n",
    "\n",
    "`conda install --channel conda-forge mamba`\n",
    "\n",
    "`Proceed? y`\n",
    "\n",
    "`mamba --help`\n",
    "\n",
    "`mamba env  create --file enviroment.yml`\n",
    "\n",
    "`conda activate py39`"
   ]
  },
  {
   "attachments": {},
   "cell_type": "markdown",
   "metadata": {},
   "source": [
    "### Divide y vencerás\n",
    "\n",
    "Resolver un problema dificil al dividirlo en pequeñas parte y resolverlas, ya luego las junto y encuentro la solución.\n",
    "\n",
    "* Crear varios ambientes para un proyecto, para controlar de forma granular el contenido del trabajo. (De esta manera, al modificar alguna dependencia NO afecto a las demás)\n",
    "\n",
    "#### Snakemake\n",
    "\n",
    "Workflow. Motor de flujo de trabajo. Etapas del proyecto paso a paso. Cada paso Snakemake se va a encargar de ejecutarlo con un ambiente en especifico de forma automatica."
   ]
  }
 ],
 "metadata": {
  "kernelspec": {
   "display_name": "Python 3",
   "language": "python",
   "name": "python3"
  },
  "language_info": {
   "name": "python",
   "version": "3.11.0"
  },
  "orig_nbformat": 4,
  "vscode": {
   "interpreter": {
    "hash": "c261aea317cc0286b3b3261fbba9abdec21eaa57589985bb7a274bf54d6cc0a7"
   }
  }
 },
 "nbformat": 4,
 "nbformat_minor": 2
}
